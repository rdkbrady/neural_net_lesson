{
 "cells": [
  {
   "cell_type": "code",
   "execution_count": 1,
   "metadata": {},
   "outputs": [
    {
     "name": "stdout",
     "output_type": "stream",
     "text": [
      "Requirement already satisfied: matplotlib in /Users/ryan/miniconda3/envs/neural/lib/python3.8/site-packages (3.2.1)\n",
      "Requirement already satisfied: cycler>=0.10 in /Users/ryan/miniconda3/envs/neural/lib/python3.8/site-packages (from matplotlib) (0.10.0)\n",
      "Requirement already satisfied: kiwisolver>=1.0.1 in /Users/ryan/miniconda3/envs/neural/lib/python3.8/site-packages (from matplotlib) (1.2.0)\n",
      "Requirement already satisfied: pyparsing!=2.0.4,!=2.1.2,!=2.1.6,>=2.0.1 in /Users/ryan/miniconda3/envs/neural/lib/python3.8/site-packages (from matplotlib) (2.4.7)\n",
      "Requirement already satisfied: python-dateutil>=2.1 in /Users/ryan/miniconda3/envs/neural/lib/python3.8/site-packages (from matplotlib) (2.8.1)\n",
      "Requirement already satisfied: numpy>=1.11 in /Users/ryan/miniconda3/envs/neural/lib/python3.8/site-packages (from matplotlib) (1.18.3)\n",
      "Requirement already satisfied: six in /Users/ryan/miniconda3/envs/neural/lib/python3.8/site-packages (from cycler>=0.10->matplotlib) (1.14.0)\n",
      "Requirement already satisfied: tensorflow_datasets in /Users/ryan/miniconda3/envs/neural/lib/python3.8/site-packages (3.1.0)\n",
      "Requirement already satisfied: future in /Users/ryan/miniconda3/envs/neural/lib/python3.8/site-packages (from tensorflow_datasets) (0.18.2)\n",
      "Requirement already satisfied: tensorflow-metadata in /Users/ryan/miniconda3/envs/neural/lib/python3.8/site-packages (from tensorflow_datasets) (0.21.2)\n",
      "Requirement already satisfied: tqdm in /Users/ryan/miniconda3/envs/neural/lib/python3.8/site-packages (from tensorflow_datasets) (4.46.0)\n",
      "Requirement already satisfied: attrs>=18.1.0 in /Users/ryan/miniconda3/envs/neural/lib/python3.8/site-packages (from tensorflow_datasets) (19.3.0)\n",
      "Requirement already satisfied: protobuf>=3.6.1 in /Users/ryan/miniconda3/envs/neural/lib/python3.8/site-packages (from tensorflow_datasets) (3.11.3)\n",
      "Requirement already satisfied: dill in /Users/ryan/miniconda3/envs/neural/lib/python3.8/site-packages (from tensorflow_datasets) (0.3.1.1)\n",
      "Requirement already satisfied: numpy in /Users/ryan/miniconda3/envs/neural/lib/python3.8/site-packages (from tensorflow_datasets) (1.18.3)\n",
      "Requirement already satisfied: promise in /Users/ryan/miniconda3/envs/neural/lib/python3.8/site-packages (from tensorflow_datasets) (2.3)\n",
      "Requirement already satisfied: six in /Users/ryan/miniconda3/envs/neural/lib/python3.8/site-packages (from tensorflow_datasets) (1.14.0)\n",
      "Requirement already satisfied: termcolor in /Users/ryan/miniconda3/envs/neural/lib/python3.8/site-packages (from tensorflow_datasets) (1.1.0)\n",
      "Requirement already satisfied: wrapt in /Users/ryan/miniconda3/envs/neural/lib/python3.8/site-packages (from tensorflow_datasets) (1.12.1)\n",
      "Requirement already satisfied: requests>=2.19.0 in /Users/ryan/miniconda3/envs/neural/lib/python3.8/site-packages (from tensorflow_datasets) (2.23.0)\n",
      "Requirement already satisfied: absl-py in /Users/ryan/miniconda3/envs/neural/lib/python3.8/site-packages (from tensorflow_datasets) (0.9.0)\n",
      "Requirement already satisfied: googleapis-common-protos in /Users/ryan/miniconda3/envs/neural/lib/python3.8/site-packages (from tensorflow-metadata->tensorflow_datasets) (1.51.0)\n",
      "Requirement already satisfied: setuptools in /Users/ryan/miniconda3/envs/neural/lib/python3.8/site-packages (from protobuf>=3.6.1->tensorflow_datasets) (46.1.3.post20200330)\n",
      "Requirement already satisfied: idna<3,>=2.5 in /Users/ryan/miniconda3/envs/neural/lib/python3.8/site-packages (from requests>=2.19.0->tensorflow_datasets) (2.9)\n",
      "Requirement already satisfied: chardet<4,>=3.0.2 in /Users/ryan/miniconda3/envs/neural/lib/python3.8/site-packages (from requests>=2.19.0->tensorflow_datasets) (3.0.4)\n",
      "Requirement already satisfied: urllib3!=1.25.0,!=1.25.1,<1.26,>=1.21.1 in /Users/ryan/miniconda3/envs/neural/lib/python3.8/site-packages (from requests>=2.19.0->tensorflow_datasets) (1.25.9)\n",
      "Requirement already satisfied: certifi>=2017.4.17 in /Users/ryan/miniconda3/envs/neural/lib/python3.8/site-packages (from requests>=2.19.0->tensorflow_datasets) (2020.4.5.1)\n",
      "Requirement already satisfied: tensorflow in /Users/ryan/miniconda3/envs/neural/lib/python3.8/site-packages (2.2.0rc3)\n",
      "Requirement already satisfied: google-pasta>=0.1.8 in /Users/ryan/miniconda3/envs/neural/lib/python3.8/site-packages (from tensorflow) (0.2.0)\n",
      "Requirement already satisfied: wrapt>=1.11.1 in /Users/ryan/miniconda3/envs/neural/lib/python3.8/site-packages (from tensorflow) (1.12.1)\n",
      "Requirement already satisfied: gast==0.3.3 in /Users/ryan/miniconda3/envs/neural/lib/python3.8/site-packages (from tensorflow) (0.3.3)\n",
      "Requirement already satisfied: astunparse==1.6.3 in /Users/ryan/miniconda3/envs/neural/lib/python3.8/site-packages (from tensorflow) (1.6.3)\n",
      "Requirement already satisfied: tensorboard<2.3.0,>=2.2.0 in /Users/ryan/miniconda3/envs/neural/lib/python3.8/site-packages (from tensorflow) (2.2.1)\n",
      "Requirement already satisfied: termcolor>=1.1.0 in /Users/ryan/miniconda3/envs/neural/lib/python3.8/site-packages (from tensorflow) (1.1.0)\n",
      "Requirement already satisfied: keras-preprocessing>=1.1.0 in /Users/ryan/miniconda3/envs/neural/lib/python3.8/site-packages (from tensorflow) (1.1.0)\n",
      "Requirement already satisfied: six>=1.12.0 in /Users/ryan/miniconda3/envs/neural/lib/python3.8/site-packages (from tensorflow) (1.14.0)\n",
      "Requirement already satisfied: grpcio>=1.8.6 in /Users/ryan/miniconda3/envs/neural/lib/python3.8/site-packages (from tensorflow) (1.28.1)\n",
      "Requirement already satisfied: wheel>=0.26; python_version >= \"3\" in /Users/ryan/miniconda3/envs/neural/lib/python3.8/site-packages (from tensorflow) (0.34.2)\n",
      "Requirement already satisfied: h5py<2.11.0,>=2.10.0 in /Users/ryan/miniconda3/envs/neural/lib/python3.8/site-packages (from tensorflow) (2.10.0)\n",
      "Requirement already satisfied: numpy<2.0,>=1.16.0 in /Users/ryan/miniconda3/envs/neural/lib/python3.8/site-packages (from tensorflow) (1.18.3)\n",
      "Requirement already satisfied: opt-einsum>=2.3.2 in /Users/ryan/miniconda3/envs/neural/lib/python3.8/site-packages (from tensorflow) (3.2.1)\n",
      "Requirement already satisfied: tensorflow-estimator<2.3.0,>=2.2.0rc0 in /Users/ryan/miniconda3/envs/neural/lib/python3.8/site-packages (from tensorflow) (2.2.0)\n",
      "Requirement already satisfied: scipy==1.4.1; python_version >= \"3\" in /Users/ryan/miniconda3/envs/neural/lib/python3.8/site-packages (from tensorflow) (1.4.1)\n",
      "Requirement already satisfied: protobuf>=3.8.0 in /Users/ryan/miniconda3/envs/neural/lib/python3.8/site-packages (from tensorflow) (3.11.3)\n",
      "Requirement already satisfied: absl-py>=0.7.0 in /Users/ryan/miniconda3/envs/neural/lib/python3.8/site-packages (from tensorflow) (0.9.0)\n",
      "Requirement already satisfied: tensorboard-plugin-wit>=1.6.0 in /Users/ryan/miniconda3/envs/neural/lib/python3.8/site-packages (from tensorboard<2.3.0,>=2.2.0->tensorflow) (1.6.0.post3)\n",
      "Requirement already satisfied: requests<3,>=2.21.0 in /Users/ryan/miniconda3/envs/neural/lib/python3.8/site-packages (from tensorboard<2.3.0,>=2.2.0->tensorflow) (2.23.0)\n",
      "Requirement already satisfied: google-auth-oauthlib<0.5,>=0.4.1 in /Users/ryan/miniconda3/envs/neural/lib/python3.8/site-packages (from tensorboard<2.3.0,>=2.2.0->tensorflow) (0.4.1)\n",
      "Requirement already satisfied: setuptools>=41.0.0 in /Users/ryan/miniconda3/envs/neural/lib/python3.8/site-packages (from tensorboard<2.3.0,>=2.2.0->tensorflow) (46.1.3.post20200330)\n",
      "Requirement already satisfied: google-auth<2,>=1.6.3 in /Users/ryan/miniconda3/envs/neural/lib/python3.8/site-packages (from tensorboard<2.3.0,>=2.2.0->tensorflow) (1.14.1)\n",
      "Requirement already satisfied: markdown>=2.6.8 in /Users/ryan/miniconda3/envs/neural/lib/python3.8/site-packages (from tensorboard<2.3.0,>=2.2.0->tensorflow) (3.2.1)\n",
      "Requirement already satisfied: werkzeug>=0.11.15 in /Users/ryan/miniconda3/envs/neural/lib/python3.8/site-packages (from tensorboard<2.3.0,>=2.2.0->tensorflow) (1.0.1)\n",
      "Requirement already satisfied: chardet<4,>=3.0.2 in /Users/ryan/miniconda3/envs/neural/lib/python3.8/site-packages (from requests<3,>=2.21.0->tensorboard<2.3.0,>=2.2.0->tensorflow) (3.0.4)\n",
      "Requirement already satisfied: certifi>=2017.4.17 in /Users/ryan/miniconda3/envs/neural/lib/python3.8/site-packages (from requests<3,>=2.21.0->tensorboard<2.3.0,>=2.2.0->tensorflow) (2020.4.5.1)\n",
      "Requirement already satisfied: idna<3,>=2.5 in /Users/ryan/miniconda3/envs/neural/lib/python3.8/site-packages (from requests<3,>=2.21.0->tensorboard<2.3.0,>=2.2.0->tensorflow) (2.9)\n",
      "Requirement already satisfied: urllib3!=1.25.0,!=1.25.1,<1.26,>=1.21.1 in /Users/ryan/miniconda3/envs/neural/lib/python3.8/site-packages (from requests<3,>=2.21.0->tensorboard<2.3.0,>=2.2.0->tensorflow) (1.25.9)\n",
      "Requirement already satisfied: requests-oauthlib>=0.7.0 in /Users/ryan/miniconda3/envs/neural/lib/python3.8/site-packages (from google-auth-oauthlib<0.5,>=0.4.1->tensorboard<2.3.0,>=2.2.0->tensorflow) (1.3.0)\n",
      "Requirement already satisfied: pyasn1-modules>=0.2.1 in /Users/ryan/miniconda3/envs/neural/lib/python3.8/site-packages (from google-auth<2,>=1.6.3->tensorboard<2.3.0,>=2.2.0->tensorflow) (0.2.8)\n",
      "Requirement already satisfied: rsa<4.1,>=3.1.4 in /Users/ryan/miniconda3/envs/neural/lib/python3.8/site-packages (from google-auth<2,>=1.6.3->tensorboard<2.3.0,>=2.2.0->tensorflow) (4.0)\n",
      "Requirement already satisfied: cachetools<5.0,>=2.0.0 in /Users/ryan/miniconda3/envs/neural/lib/python3.8/site-packages (from google-auth<2,>=1.6.3->tensorboard<2.3.0,>=2.2.0->tensorflow) (4.1.0)\n",
      "Requirement already satisfied: oauthlib>=3.0.0 in /Users/ryan/miniconda3/envs/neural/lib/python3.8/site-packages (from requests-oauthlib>=0.7.0->google-auth-oauthlib<0.5,>=0.4.1->tensorboard<2.3.0,>=2.2.0->tensorflow) (3.1.0)\n",
      "Requirement already satisfied: pyasn1<0.5.0,>=0.4.6 in /Users/ryan/miniconda3/envs/neural/lib/python3.8/site-packages (from pyasn1-modules>=0.2.1->google-auth<2,>=1.6.3->tensorboard<2.3.0,>=2.2.0->tensorflow) (0.4.8)\n"
     ]
    }
   ],
   "source": [
    "!pip install matplotlib\n",
    "!pip install tensorflow_datasets\n",
    "!pip install tensorflow\n",
    "\n",
    "import numpy as np"
   ]
  },
  {
   "cell_type": "markdown",
   "metadata": {},
   "source": [
    "# Intro to Neural Networks\n",
    "\n",
    "Learning objectives:\n",
    "1. Understand what neural networks can do.\n",
    "2. Understand the structure of a neural network.\n",
    "3. Understand forward propagation and backpropagation.\n",
    "4. Understand the structure of a neuron, and be able to select appropriate activation functions.\n",
    "5. Implement a neural network in keras\n",
    "\n",
    "Prerequisites:\n",
    "1. derivatives, including partial derivatives\n",
    "2. gradient descent\n",
    "3. chain rule\n",
    "\n",
    "Some very good videos from 3 blue 1 brown:\n",
    "- [Neural Network playlist (4 videos)](https://www.youtube.com/watch?v=aircAruvnKk&list=PLZHQObOWTQDNU6R1_67000Dx_ZCJB-3pi)\n"
   ]
  },
  {
   "cell_type": "markdown",
   "metadata": {},
   "source": [
    "# 1. Applications of Neural Networks\n",
    "\n",
    "\n",
    "### Text Generation\n",
    "The [GPT-2](http://jalammar.github.io/illustrated-gpt2/) model is a **decoder** model which uses previous words to predict the next one in a sequence. You can experiment with a limited version of this model at [talk to transformer](https://talktotransformer.com/). \n",
    "\n",
    "**Input:** In a shocking finding, scientist discovered a herd of unicorns living in a remote, previously unexplored valley, in the Andes Mountains. Even more surprising to the researchers was the fact that the unicorns spoke perfect English.\n",
    "\n",
    "**Output:** The amazing find was made by researchers of the Universidad Austral de Chile, thanks to one of the country's most highly active amateur scientists. Of course, the creature in question was not a real unicorn, but a llama, and unfortunately the strange creature was killed before researchers could analyze its vocalization.\n",
    "\n",
    "\n",
    "### Image Classification\n",
    "The [VGG-16](https://neurohive.io/en/popular-networks/vgg16/) model is a **deep convolutional** network that can classify image regardless of the scale or rotation of the objects in the image.\n",
    "\n",
    "doge? | doge?\n",
    "- | - \n",
    "[<img src=\"img/shibe.jpg\" width=240 />](https://knowyourmeme.com/memes/doge) |[<img src=\"img/doge.jpg\" width=240 />](https://en.wikipedia.org/wiki/Doge_of_Venice)\n",
    "\n",
    "\n",
    "### Image Generation\n",
    "[Generative adversarial networks](https://neurohive.io/en/news/deepfake-videos-gan-sythesizes-a-video-from-a-single-photo/]) can be used to create plausible images and video.\n",
    "<img src=\"img/gan.png\" width=600 />\n",
    "\n",
    "### AI\n",
    "AlphaZero is a neural network AI that has beaten world champions in [Chess](https://www.chess.com/news/view/updated-alphazero-crushes-stockfish-in-new-1-000-game-match), [Go](https://www.theverge.com/2019/11/27/20985260/ai-go-alphago-lee-se-dol-retired-deepmind-defeat), and [Starcraft](https://www.theverge.com/2019/10/30/20939147/deepmind-google-alphastar-starcraft-2-research-grandmaster-level)\n",
    "\n",
    "[OpenAI](https://openai.com/blog/solving-rubiks-cube/) has also applied neural networks to solving physical robotics problems.\n",
    "\n",
    "<img src=\"img/rubiks.jpg\" width=600 />\n",
    "\n",
    "### Other applications\n",
    "\n",
    "Many machine learning techniques can also be implemented through neural networks (linear regression, logistic regression, etc.)"
   ]
  },
  {
   "cell_type": "markdown",
   "metadata": {},
   "source": [
    "# 2. Structure of a Neural Network\n",
    "\n",
    "Black Box view:\n",
    "<img src=\"img/black_box.png\" width=600 />\n",
    "Layer view:\n",
    "<img src=\"img/layers.png\" width=600 />\n",
    "\n",
    "Neuron view:\n",
    "<img src=\"img/layers_with_neurons.png\" width=600 />\n",
    "\n",
    "As functions:\n",
    "$$\\mathbf{y} = \\mathbf{f}_y(\\mathbf{W}_4, \\mathbf{b}_4, \\mathbf{h}_3)$$\n",
    "$$\\mathbf{h}_3 = \\mathbf{f}_{h(3)}(\\mathbf{W}_3, \\mathbf{b}_3, \\mathbf{h}_2)$$\n",
    "$$\\mathbf{h}_2 = \\mathbf{f}_{h(2)}(\\mathbf{W}_2, \\mathbf{b}_2, \\mathbf{h}_1)$$\n",
    "$$\\mathbf{h}_1 = \\mathbf{f}_{h(1)}(\\mathbf{W}_1, \\mathbf{b}_1, \\mathbf{x})$$\n"
   ]
  },
  {
   "cell_type": "markdown",
   "metadata": {},
   "source": [
    "# 3. Forward propagation and backpropagation\n",
    "\n",
    "## Forward propagation: \n",
    "1. Calculate first hidden layer from inputs\n",
    "2. Calculate second hidden layer from first hidden layer\n",
    "3. etc.\n",
    "4. Calculate outputs from last hidden layer\n",
    "\n",
    "\n",
    "In terms of the functions above,\n",
    "1. $$\\mathbf{h}_1 = \\mathbf{f}_{h(1)}(\\mathbf{W}_1, \\mathbf{b}_1, \\mathbf{x})$$\n",
    "2. $$\\mathbf{h}_2 = \\mathbf{f}_{h(2)}(\\mathbf{W}_2, \\mathbf{b}_2, \\mathbf{h}_1)$$\n",
    "3. $$\\mathbf{h}_3 = \\mathbf{f}_{h(3)}(\\mathbf{W}_3, \\mathbf{b}_3, \\mathbf{h}_2)$$\n",
    "4. $$\\mathbf{y} = \\mathbf{f}_y(\\mathbf{W}_4, \\mathbf{b}_4, \\mathbf{h}_3)$$\n",
    "\n",
    "\n",
    "And we can calculate the value of a cost function:\n",
    "$$C(\\mathbf{y}, \\mathbf{y}_{obs})$$\n",
    "\n",
    "## Backpropagation \n",
    "Backpropagation is how we find the gradient across all weights so that we can do gradient descent. \n",
    "\n",
    "Review:\n",
    "- Chain Rule\n",
    "\n",
    "$$ z =  f(g(x)) $$\n",
    "$$ u = g(x) $$\n",
    "$$ \\frac{dz}{dx} =  \\frac{dz}{du} \\frac{du}{dx}$$\n",
    "\n",
    "For example:\n",
    "$$ \\frac{dC}{dW_3} = \\frac{dC}{d\\mathbf{y}}\\frac{d\\mathbf{y}}{d\\mathbf{h}_3}\\frac{d\\mathbf{h}_3}{d\\mathbf{W}_3} $$\n",
    "\n",
    "In general:\n",
    "$$ \n",
    "\\frac{dC}{dW_i} = \n",
    "    \\frac{dC}{d\\mathbf{y}}\n",
    "    \\frac{d\\mathbf{y}}{d\\mathbf{h}_m}\n",
    "    \\frac{d\\mathbf{h}_m}{d\\mathbf{h}_{m-1}} ... \n",
    "    \\frac{d\\mathbf{h}_{i+1}}{d\\mathbf{h}_{i}}\n",
    "    \\frac{d\\mathbf{h}_{i}}{d\\mathbf{W}_{i}}\n",
    "$$\n",
    "\n",
    "Or more compactly, \n",
    "$$   \\frac{dC}{\\mathbf{dW}_i} = \\frac{dC}{\\mathbf{dh}_{i}}\\frac{\\mathbf{dh}_{i}}{\\mathbf{dW}_i}$$\n"
   ]
  },
  {
   "cell_type": "markdown",
   "metadata": {},
   "source": [
    "# 4. Building a simple artificial neuron\n",
    "\n",
    "\n",
    "[<img src=\"img/neuron.jpg\" width=400 />](https://medium.com/@jayeshbahire/the-artificial-neural-networks-handbook-part-4-d2087d1f583e)\n",
    "\n",
    "\n",
    "We will use the Rectified Linear Unit or [ReLU](https://machinelearningmastery.com/rectified-linear-activation-function-for-deep-learning-neural-networks/) as our activation function: \n",
    "\n",
    "$$ z = w_1x_1 + w_2x_2 + ... + w_mx_m + b$$\n",
    "$$    ReLU(z) = \\Bigg\\{\n",
    "        \\begin{array}{ll}\n",
    "        z, & \\text{if } z > 0\\\\\n",
    "        0, & \\text{otherwise }\\\\\n",
    "        \\end{array}\n",
    "$$"
   ]
  },
  {
   "cell_type": "code",
   "execution_count": 2,
   "metadata": {},
   "outputs": [],
   "source": [
    "from scripts import demo\n",
    "\n",
    "inputs = demo.make_inputs(5)\n",
    "weights, bias = demo.initialize_neuron(5)"
   ]
  },
  {
   "cell_type": "code",
   "execution_count": 3,
   "metadata": {},
   "outputs": [],
   "source": [
    "# Write this together\n",
    "def neuron_weighted_sum(prev_layer, weights, bias):\n",
    "    '''\n",
    "    Params\n",
    "    ———-\n",
    "    prev_layer: numpy.ndarray\n",
    "        Should have shape (m, ). Contains output values from the previous layer.\n",
    "    weights: numpy.ndarray \n",
    "        Should have shape (m, ). Contains weights connecting previous layer to this neuron\n",
    "    bias: float\n",
    "    \n",
    "    Returns\n",
    "    ———-\n",
    "    output: float\n",
    "        the output of the neuron\n",
    "\n",
    "    '''\n",
    "    weighted_sum = bias\n",
    "    for i in range(len(prev_layer)):\n",
    "        weighted_sum += prev_layer[i] * weights[i]\n",
    "        \n",
    "    return weighted_sum"
   ]
  },
  {
   "cell_type": "code",
   "execution_count": 4,
   "metadata": {},
   "outputs": [],
   "source": [
    "def relu(z):\n",
    "    '''\n",
    "    Params\n",
    "    ———-\n",
    "    z: float\n",
    "    \n",
    "    Returns\n",
    "    ———-\n",
    "    output: float\n",
    "    '''\n",
    "    output = np.max([z, 0])\n",
    "    \n",
    "    return output"
   ]
  },
  {
   "cell_type": "code",
   "execution_count": 5,
   "metadata": {},
   "outputs": [],
   "source": [
    "def neuron(prev_layer, weights, bias, activation_function):\n",
    "    '''\n",
    "    Params\n",
    "    ———-\n",
    "    weighted_sum: float\n",
    "        otuput from neuron_weighted_sum function\n",
    "    activation_function: function(float)\n",
    "    \n",
    "    Returns\n",
    "    ———-\n",
    "    output: float\n",
    "        the output of the neuron\n",
    "\n",
    "    '''\n",
    "    \n",
    "    weighted_sum = neuron_weighted_sum(prev_layer, weights, bias)\n",
    "    neuron_output = activation_function(weighted_sum)\n",
    "    \n",
    "    return(neuron_output)"
   ]
  },
  {
   "cell_type": "markdown",
   "metadata": {},
   "source": [
    "For backpropagation, we'll also need a way to get derivatives across a neuron. \n",
    "\n",
    "$$ z = w_1x_1 + w_2x_2 + ... + w_mx_m + b$$\n",
    "$$ ReLU(z) = \\Bigg\\{\n",
    "        \\begin{array}{ll}\n",
    "        z, & \\text{if } z > 0\\\\\n",
    "        0, & \\text{otherwise }\\\\\n",
    "        \\end{array} $$"
   ]
  },
  {
   "cell_type": "code",
   "execution_count": 14,
   "metadata": {},
   "outputs": [],
   "source": [
    "def d_relu_d_sum(z):\n",
    "    '''\n",
    "    Find the derivative of the relu(z) with respect to z\n",
    "    \n",
    "    Params\n",
    "    ———-\n",
    "    x: float\n",
    "    \n",
    "    Returns\n",
    "    ———-\n",
    "    output: float\n",
    "    '''\n",
    "\n",
    "    if z > 0:\n",
    "        output = 1\n",
    "    else :\n",
    "        output = 0\n",
    "    \n",
    "    return output\n",
    "        "
   ]
  },
  {
   "cell_type": "code",
   "execution_count": 15,
   "metadata": {},
   "outputs": [],
   "source": [
    "def d_sum_d_weights(prev_layer, weights, bias):\n",
    "    '''\n",
    "    Find the derivative of a neuron with respect to weights\n",
    "        \n",
    "    Params\n",
    "    ———-\n",
    "    prev_layer: numpy.ndarray\n",
    "        Should have shape (m, ). Contains output values from the previous layer.\n",
    "    weights: numpy.ndarray \n",
    "        Should have shape (m, ). Contains weights connecting previous layer to this neuron\n",
    "    bias: float\n",
    "        \n",
    "    Returns\n",
    "    ———-\n",
    "    output: d_sum_d_weights: numpy.ndarray\n",
    "        derivative of the neuron with respect to weights\n",
    "    '''\n",
    "    dz_dW = prev_layer\n",
    "    \n",
    "    return dz_dW"
   ]
  },
  {
   "cell_type": "code",
   "execution_count": 20,
   "metadata": {},
   "outputs": [],
   "source": [
    "def d_neuron_d_weights(dz_dW, z, d_activation_d_sum):\n",
    "    '''\n",
    "    Find the derivative of a neuron with respect to the previous layer, \n",
    "        with respect to weights, and with respect to bias.\n",
    "        \n",
    "    Params\n",
    "    ———-\n",
    "    dz_dW: numpy.ndarray\n",
    "        Should have shape (m, ). Contains output values from d_sum_d_weights.\n",
    "    z: numpy.ndarray \n",
    "        float. Output from neuron_weighted_sum function.\n",
    "    d_activation_d_sum: function\n",
    "        the derivative of the activation function\n",
    "\n",
    "        \n",
    "    Returns\n",
    "    ———-\n",
    "    output: d_neuron_d_weights: numpy.ndarray\n",
    "        derivative of the neuron with respect to weights\n",
    "    '''\n",
    "    d_neuron_d_weights = dz_dW * d_activation_d_sum(z)\n",
    "    \n",
    "    return d_neuron_d_weights"
   ]
  },
  {
   "cell_type": "code",
   "execution_count": 31,
   "metadata": {},
   "outputs": [
    {
     "name": "stdout",
     "output_type": "stream",
     "text": [
      "inputs: [-0.31102169  0.50223747  0.58287405 -0.92423318  0.58855652]\n",
      "weights: [-0.55708388 -0.76947242  0.39692106  0.81044574 -0.63964117]\n",
      "bias: 0.6493918636869251\n",
      "\n",
      "weighted_sum: -0.4579516825996736\n",
      "output: 0.0\n",
      "\n",
      "d_neuron/d_weights: [-0.  0.  0. -0.  0.]\n"
     ]
    }
   ],
   "source": [
    "# Test the neuron function. (inputs, weights, bias are imported from the demo script)\n",
    "inputs = demo.make_inputs(5)\n",
    "weights, bias = demo.initialize_neuron(5)\n",
    "weighted_sum = neuron_weighted_sum(inputs, weights, bias)\n",
    "neuron_output = neuron(inputs, weights, bias, relu)\n",
    "\n",
    "print(\"inputs: {}\".format(inputs))\n",
    "print(\"weights: {}\".format(weights))\n",
    "print(\"bias: {}\".format(bias))\n",
    "print(\"\")\n",
    "print(\"weighted_sum: {}\".format(weighted_sum))\n",
    "print(\"output: {}\".format(neuron_output))\n",
    "\n",
    "\n",
    "dz_dw = d_sum_d_weights(inputs, weighted_sum, d_relu_dz)\n",
    "d_neuron_dw = d_neuron_d_weights(dz_dw, weighted_sum, d_relu_dz)\n",
    "print(\"\")\n",
    "print(\"d_neuron/d_weights: {}\".format(d_neuron_dw))\n",
    "\n"
   ]
  },
  {
   "cell_type": "markdown",
   "metadata": {},
   "source": [
    "# 5. Recognizing Handwritten Digits\n",
    "\n",
    "Just use Keras!\n",
    "\n",
    "Example from https://www.tensorflow.org/datasets/keras_example"
   ]
  },
  {
   "cell_type": "code",
   "execution_count": 34,
   "metadata": {},
   "outputs": [
    {
     "data": {
      "text/plain": [
       "<matplotlib.image.AxesImage at 0x14c832ac0>"
      ]
     },
     "execution_count": 34,
     "metadata": {},
     "output_type": "execute_result"
    },
    {
     "data": {
      "image/png": "[encoded data removed]",
      "text/plain": [
       "<Figure size 288x288 with 1 Axes>"
      ]
     },
     "metadata": {
      "needs_background": "light"
     },
     "output_type": "display_data"
    }
   ],
   "source": [
    "from matplotlib import pyplot as plt\n",
    "import tensorflow_datasets as tfds\n",
    "import tensorflow as tf\n",
    "from tensorflow.keras import layers\n",
    "import numpy as np\n",
    "\n",
    "train, test = demo.mnist_data()\n",
    "\n",
    "plt.matshow(next(tfds.as_numpy(train))[0][0][:,:,0])"
   ]
  },
  {
   "cell_type": "code",
   "execution_count": 36,
   "metadata": {},
   "outputs": [
    {
     "name": "stdout",
     "output_type": "stream",
     "text": [
      "Epoch 1/6\n",
      "469/469 [==============================] - 1s 3ms/step - loss: 0.4140 - accuracy: 0.8836 - val_loss: 0.2146 - val_accuracy: 0.9393\n",
      "Epoch 2/6\n",
      "469/469 [==============================] - 1s 2ms/step - loss: 0.1876 - accuracy: 0.9456 - val_loss: 0.1576 - val_accuracy: 0.9528\n",
      "Epoch 3/6\n",
      "469/469 [==============================] - 1s 2ms/step - loss: 0.1426 - accuracy: 0.9582 - val_loss: 0.1351 - val_accuracy: 0.9589\n",
      "Epoch 4/6\n",
      "469/469 [==============================] - 1s 2ms/step - loss: 0.1128 - accuracy: 0.9662 - val_loss: 0.1137 - val_accuracy: 0.9647\n",
      "Epoch 5/6\n",
      "469/469 [==============================] - 1s 2ms/step - loss: 0.0957 - accuracy: 0.9708 - val_loss: 0.1073 - val_accuracy: 0.9682\n",
      "Epoch 6/6\n",
      "469/469 [==============================] - 1s 2ms/step - loss: 0.0813 - accuracy: 0.9752 - val_loss: 0.1031 - val_accuracy: 0.9693\n"
     ]
    },
    {
     "data": {
      "text/plain": [
       "<tensorflow.python.keras.callbacks.History at 0x14c864ee0>"
      ]
     },
     "execution_count": 36,
     "metadata": {},
     "output_type": "execute_result"
    }
   ],
   "source": [
    "model = tf.keras.Sequential()\n",
    "model.add(layers.Flatten())\n",
    "# hidden layers\n",
    "model.add(layers.Dense(50, activation = 'relu'))\n",
    "model.add(layers.Dense(50, activation = 'relu'))\n",
    "\n",
    "# output layer\n",
    "model.add(layers.Dense(10, activation = 'softmax'))\n",
    "\n",
    "\n",
    "model.compile(\n",
    "    loss='sparse_categorical_crossentropy',\n",
    "    optimizer=tf.keras.optimizers.Adam(0.001),\n",
    "    metrics=['accuracy'],\n",
    ")\n",
    "\n",
    "model.fit(\n",
    "    train,\n",
    "    epochs=6,\n",
    "    validation_data=test,\n",
    ")"
   ]
  },
  {
   "cell_type": "code",
   "execution_count": 33,
   "metadata": {},
   "outputs": [
    {
     "name": "stdout",
     "output_type": "stream",
     "text": [
      "Network thinks this image is a 8\n"
     ]
    },
    {
     "data": {
      "text/plain": [
       "<matplotlib.image.AxesImage at 0x11ee3d7c0>"
      ]
     },
     "execution_count": 33,
     "metadata": {},
     "output_type": "execute_result"
    },
    {
     "data": {
      "image/png": "[encoded data removed]",
      "text/plain": [
       "<Figure size 288x288 with 1 Axes>"
      ]
     },
     "metadata": {
      "needs_background": "light"
     },
     "output_type": "display_data"
    }
   ],
   "source": [
    "#Examine predictions\n",
    "batch_index = 32\n",
    "\n",
    "example = next(tfds.as_numpy(test))[0]\n",
    "print(\"Network thinks this image is a {}\".format(np.argmax(model.predict(example)[batch_index])))\n",
    "plt.matshow(example[batch_index,:,:,0])"
   ]
  },
  {
   "cell_type": "markdown",
   "metadata": {},
   "source": [
    "# What else would we do in a full day lesson?\n",
    "\n",
    "- Implement the training of a neural network using numpy.\n",
    "- Go over all commonly used activation functions and discuss the pros/cons of each. \n",
    "- Understand what vanishing gradient means, and how that applies to choice of activation function\n",
    "- Go over commonly used cost functions\n",
    "- Learn how GPUs can be used to accelerate the training of neural nets.\n",
    "- Overview of convolutional layers, GRUs and LSTMs. "
   ]
  }
 ],
 "metadata": {
  "kernelspec": {
   "display_name": "Python [conda env:neural]",
   "language": "python",
   "name": "conda-env-neural-py"
  },
  "language_info": {
   "codemirror_mode": {
    "name": "ipython",
    "version": 3
   },
   "file_extension": ".py",
   "mimetype": "text/x-python",
   "name": "python",
   "nbconvert_exporter": "python",
   "pygments_lexer": "ipython3",
   "version": "3.8.2"
  }
 },
 "nbformat": 4,
 "nbformat_minor": 4
}
